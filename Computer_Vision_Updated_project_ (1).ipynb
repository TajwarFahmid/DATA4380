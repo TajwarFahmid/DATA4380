{
  "nbformat": 4,
  "nbformat_minor": 0,
  "metadata": {
    "colab": {
      "provenance": []
    },
    "kernelspec": {
      "name": "python3",
      "display_name": "Python 3"
    },
    "language_info": {
      "name": "python"
    }
  },
  "cells": [
    {
      "cell_type": "markdown",
      "source": [
        "Mounting google drive to access the training and validation data sets."
      ],
      "metadata": {
        "id": "ktU5SU_99utQ"
      }
    },
    {
      "cell_type": "code",
      "execution_count": 2,
      "metadata": {
        "colab": {
          "base_uri": "https://localhost:8080/"
        },
        "id": "SY2Aj1u-UVzu",
        "outputId": "20cd7363-0fe6-4d28-90b0-d5edc48b4c0d"
      },
      "outputs": [
        {
          "output_type": "stream",
          "name": "stdout",
          "text": [
            "Drive already mounted at /content/drive; to attempt to forcibly remount, call drive.mount(\"/content/drive\", force_remount=True).\n"
          ]
        }
      ],
      "source": [
        "from google.colab import drive\n",
        "drive.mount('/content/drive')"
      ]
    },
    {
      "cell_type": "code",
      "source": [
        "import os\n",
        "\n",
        "folder_path = '/content/drive/MyDrive/CFD Training'\n",
        "os.listdir(folder_path)\n"
      ],
      "metadata": {
        "colab": {
          "base_uri": "https://localhost:8080/"
        },
        "id": "I67tOKYwUZZB",
        "outputId": "389c1916-42a5-4d1a-a621-87b8575123cb"
      },
      "execution_count": 3,
      "outputs": [
        {
          "output_type": "execute_result",
          "data": {
            "text/plain": [
              "['.DS_Store',\n",
              " 'Natalie Portman',\n",
              " 'Tom Hanks',\n",
              " 'Megan Fox',\n",
              " 'Denzel Washington',\n",
              " 'Nicole Kidman',\n",
              " 'Kate Winslet',\n",
              " 'Johnny Depp',\n",
              " 'Sandra Bullock',\n",
              " 'Will Smith',\n",
              " 'Scarlett Johansson',\n",
              " 'Brad Pitt',\n",
              " 'Robert Downey Jr',\n",
              " 'Jennifer Lawrence',\n",
              " 'Leonardo DiCaprio',\n",
              " 'Angelina Jolie',\n",
              " 'Hugh Jackman',\n",
              " 'Tom Cruise']"
            ]
          },
          "metadata": {},
          "execution_count": 3
        }
      ]
    },
    {
      "cell_type": "markdown",
      "source": [
        "Checking contents (folders) in the training file."
      ],
      "metadata": {
        "id": "3oC1H3NC97pd"
      }
    },
    {
      "cell_type": "code",
      "source": [
        "for item in os.listdir(folder_path):\n",
        "    item_path = os.path.join(folder_path, item)\n",
        "    if os.path.isfile(item_path):\n",
        "        print(f\"File: {item} - Size: {os.path.getsize(item_path)} bytes\")\n",
        "    elif os.path.isdir(item_path):\n",
        "        print(f\"Folder: {item}\")\n"
      ],
      "metadata": {
        "colab": {
          "base_uri": "https://localhost:8080/"
        },
        "id": "c2kcTwga94kC",
        "outputId": "63e23d85-0ba1-4c62-cd68-942c8423dd39"
      },
      "execution_count": 4,
      "outputs": [
        {
          "output_type": "stream",
          "name": "stdout",
          "text": [
            "File: .DS_Store - Size: 14340 bytes\n",
            "Folder: Natalie Portman\n",
            "Folder: Tom Hanks\n",
            "Folder: Megan Fox\n",
            "Folder: Denzel Washington\n",
            "Folder: Nicole Kidman\n",
            "Folder: Kate Winslet\n",
            "Folder: Johnny Depp\n",
            "Folder: Sandra Bullock\n",
            "Folder: Will Smith\n",
            "Folder: Scarlett Johansson\n",
            "Folder: Brad Pitt\n",
            "Folder: Robert Downey Jr\n",
            "Folder: Jennifer Lawrence\n",
            "Folder: Leonardo DiCaprio\n",
            "Folder: Angelina Jolie\n",
            "Folder: Hugh Jackman\n",
            "Folder: Tom Cruise\n"
          ]
        }
      ]
    },
    {
      "cell_type": "markdown",
      "source": [
        "Checking the contents of each of the folders inside the training dataset and the number of images in each folder of the actor and actress."
      ],
      "metadata": {
        "id": "rbHAImQ79zyC"
      }
    },
    {
      "cell_type": "code",
      "source": [
        "main_folder_path = '/content/drive/MyDrive/CFD Training'\n",
        "subfolders = [f.path for f in os.scandir(main_folder_path) if f.is_dir()]\n",
        "\n",
        "for subfolder in subfolders:\n",
        "    print(\"Processing subfolder:\", subfolder)\n",
        "    num_images = len(os.listdir(subfolder))\n",
        "    print(\"Number of images:\", num_images)\n"
      ],
      "metadata": {
        "colab": {
          "base_uri": "https://localhost:8080/"
        },
        "id": "n5cdW6FKUlqU",
        "outputId": "c39d8b1e-0db6-4122-dd3d-ab4d59551166"
      },
      "execution_count": 5,
      "outputs": [
        {
          "output_type": "stream",
          "name": "stdout",
          "text": [
            "Processing subfolder: /content/drive/MyDrive/CFD Training/Natalie Portman\n",
            "Number of images: 81\n",
            "Processing subfolder: /content/drive/MyDrive/CFD Training/Tom Hanks\n",
            "Number of images: 81\n",
            "Processing subfolder: /content/drive/MyDrive/CFD Training/Megan Fox\n",
            "Number of images: 81\n",
            "Processing subfolder: /content/drive/MyDrive/CFD Training/Denzel Washington\n",
            "Number of images: 81\n",
            "Processing subfolder: /content/drive/MyDrive/CFD Training/Nicole Kidman\n",
            "Number of images: 81\n",
            "Processing subfolder: /content/drive/MyDrive/CFD Training/Kate Winslet\n",
            "Number of images: 91\n",
            "Processing subfolder: /content/drive/MyDrive/CFD Training/Johnny Depp\n",
            "Number of images: 81\n",
            "Processing subfolder: /content/drive/MyDrive/CFD Training/Sandra Bullock\n",
            "Number of images: 81\n",
            "Processing subfolder: /content/drive/MyDrive/CFD Training/Will Smith\n",
            "Number of images: 81\n",
            "Processing subfolder: /content/drive/MyDrive/CFD Training/Scarlett Johansson\n",
            "Number of images: 181\n",
            "Processing subfolder: /content/drive/MyDrive/CFD Training/Brad Pitt\n",
            "Number of images: 81\n",
            "Processing subfolder: /content/drive/MyDrive/CFD Training/Robert Downey Jr\n",
            "Number of images: 81\n",
            "Processing subfolder: /content/drive/MyDrive/CFD Training/Jennifer Lawrence\n",
            "Number of images: 81\n",
            "Processing subfolder: /content/drive/MyDrive/CFD Training/Leonardo DiCaprio\n",
            "Number of images: 81\n",
            "Processing subfolder: /content/drive/MyDrive/CFD Training/Angelina Jolie\n",
            "Number of images: 81\n",
            "Processing subfolder: /content/drive/MyDrive/CFD Training/Hugh Jackman\n",
            "Number of images: 81\n",
            "Processing subfolder: /content/drive/MyDrive/CFD Training/Tom Cruise\n",
            "Number of images: 81\n"
          ]
        }
      ]
    },
    {
      "cell_type": "markdown",
      "source": [
        "Training a model to analyze the images in the folders, printing the accuracy of the model. The model has been augmented using specific dimensions for portraits as most of the images of the celebrities are portrait images. I tried increasing the epochs and decreasing them as well, when I decrease the numebr of epochs (to 10 epochs), the accuracy is too low. When I increase the number of epochs (to 100 epochs), the accuracy is higher numerically but the graph is very scattered and the  model keeps classifying new images (not part of the training or validation datasets) into one single class only."
      ],
      "metadata": {
        "id": "VDnPpjpz9K2U"
      }
    },
    {
      "cell_type": "code",
      "source": [
        "from tensorflow.keras.models import Sequential, load_model\n",
        "from tensorflow.keras.layers import Conv2D, MaxPooling2D, Flatten, Dense, Dropout, BatchNormalization\n",
        "from tensorflow.keras.optimizers import Adam\n",
        "from tensorflow.keras.preprocessing.image import ImageDataGenerator\n",
        "from tensorflow.keras.callbacks import LearningRateScheduler, EarlyStopping, ModelCheckpoint\n",
        "import math\n",
        "# Define the learning rate schedule\n",
        "def step_decay(epoch):\n",
        "    initial_lrate = 0.001\n",
        "    drop = 0.5\n",
        "    epochs_drop = 10.0\n",
        "    lrate = initial_lrate * math.pow(drop, math.floor((1+epoch)/epochs_drop))\n",
        "    return lrate\n",
        "\n",
        "# Image data generator for training data with specific augmentations for portraits\n",
        "train_datagen = ImageDataGenerator(\n",
        "    rescale=1./255,\n",
        "    rotation_range=5,\n",
        "    width_shift_range=0.05,\n",
        "    height_shift_range=0.05,\n",
        "    brightness_range=(0.9, 1.1),\n",
        "    zoom_range=[0.9, 1.1],\n",
        "    horizontal_flip=True,\n",
        "    fill_mode='nearest'\n",
        ")\n",
        "\n",
        "train_generator = train_datagen.flow_from_directory(\n",
        "    '/content/drive/MyDrive/CFD Training',\n",
        "    target_size=(150, 150),\n",
        "    batch_size=32,\n",
        "    class_mode='categorical'\n",
        ")\n",
        "\n",
        "# Image data generator for validation data\n",
        "validation_datagen = ImageDataGenerator(rescale=1./255)\n",
        "\n",
        "validation_generator = validation_datagen.flow_from_directory(\n",
        "    '/content/drive/MyDrive/CFD Validation',\n",
        "    target_size=(150, 150),\n",
        "    batch_size=32,\n",
        "    class_mode='categorical'\n",
        ")\n",
        "\n",
        "# Model architecture\n",
        "model = Sequential([\n",
        "    Conv2D(32, (3, 3), activation='relu', input_shape=(150, 150, 3)),\n",
        "    MaxPooling2D((2, 2)),\n",
        "    BatchNormalization(),\n",
        "    Conv2D(64, (3, 3), activation='relu'),\n",
        "    MaxPooling2D((2, 2)),\n",
        "    BatchNormalization(),\n",
        "    Conv2D(128, (3, 3), activation='relu'),\n",
        "    MaxPooling2D((2, 2)),\n",
        "    Flatten(),\n",
        "    Dense(512, activation='relu'),\n",
        "    Dropout(0.5),\n",
        "    BatchNormalization(),\n",
        "    Dense(17, activation='softmax')\n",
        "])\n",
        "\n",
        "optimizer = Adam(learning_rate=0.001)  # Adjusted learning rate\n",
        "model.compile(optimizer=optimizer, loss='categorical_crossentropy', metrics=['accuracy'])\n",
        "\n",
        "# Callbacks\n",
        "lrate_schedule = LearningRateScheduler(step_decay)\n",
        "early_stopping = EarlyStopping(monitor='val_loss', patience=5)\n",
        "checkpoint = ModelCheckpoint('best_model.h5', monitor='val_loss', save_best_only=True)\n",
        "\n",
        "\n",
        "# Train the model\n",
        "history = model.fit(\n",
        "    train_generator,\n",
        "    steps_per_epoch=len(train_generator),\n",
        "    epochs= 50,\n",
        "    validation_data=validation_generator,\n",
        "    validation_steps=len(validation_generator),\n",
        "    callbacks=[lrate_schedule]\n",
        ")\n",
        "\n",
        "# Evaluate the model\n",
        "test_loss, test_accuracy = model.evaluate(validation_generator)\n",
        "print(\"Test Accuracy:\", test_accuracy)\n"
      ],
      "metadata": {
        "colab": {
          "base_uri": "https://localhost:8080/"
        },
        "id": "Xhh0F2w3Uqjz",
        "outputId": "2c2afac1-5d20-4fa8-ee94-5895b3a235e4"
      },
      "execution_count": null,
      "outputs": [
        {
          "output_type": "stream",
          "name": "stdout",
          "text": [
            "Found 1470 images belonging to 17 classes.\n",
            "Found 350 images belonging to 17 classes.\n",
            "Epoch 1/50\n",
            "46/46 [==============================] - 423s 9s/step - loss: 2.9729 - accuracy: 0.1143 - val_loss: 2.8588 - val_accuracy: 0.0743 - lr: 0.0010\n",
            "Epoch 2/50\n",
            "46/46 [==============================] - 116s 3s/step - loss: 2.6329 - accuracy: 0.1673 - val_loss: 2.9575 - val_accuracy: 0.0743 - lr: 0.0010\n",
            "Epoch 3/50\n",
            "46/46 [==============================] - 111s 2s/step - loss: 2.3917 - accuracy: 0.2381 - val_loss: 2.9587 - val_accuracy: 0.0743 - lr: 0.0010\n",
            "Epoch 4/50\n",
            "46/46 [==============================] - 110s 2s/step - loss: 2.4414 - accuracy: 0.2041 - val_loss: 3.0883 - val_accuracy: 0.0743 - lr: 0.0010\n",
            "Epoch 5/50\n",
            "46/46 [==============================] - 109s 2s/step - loss: 2.4259 - accuracy: 0.2293 - val_loss: 2.7679 - val_accuracy: 0.0857 - lr: 0.0010\n",
            "Epoch 6/50\n",
            "46/46 [==============================] - 122s 3s/step - loss: 2.3932 - accuracy: 0.2109 - val_loss: 2.8367 - val_accuracy: 0.0829 - lr: 0.0010\n",
            "Epoch 7/50\n",
            "46/46 [==============================] - 112s 2s/step - loss: 2.3444 - accuracy: 0.2354 - val_loss: 2.9303 - val_accuracy: 0.0771 - lr: 0.0010\n",
            "Epoch 8/50\n",
            "46/46 [==============================] - 113s 2s/step - loss: 2.2003 - accuracy: 0.2891 - val_loss: 2.6945 - val_accuracy: 0.0914 - lr: 0.0010\n",
            "Epoch 9/50\n",
            "46/46 [==============================] - 114s 2s/step - loss: 2.2382 - accuracy: 0.2803 - val_loss: 2.4952 - val_accuracy: 0.2000 - lr: 0.0010\n",
            "Epoch 10/50\n",
            "46/46 [==============================] - 112s 2s/step - loss: 2.1768 - accuracy: 0.2925 - val_loss: 2.4931 - val_accuracy: 0.1914 - lr: 5.0000e-04\n",
            "Epoch 11/50\n",
            "46/46 [==============================] - 113s 2s/step - loss: 2.1292 - accuracy: 0.3000 - val_loss: 2.1834 - val_accuracy: 0.2486 - lr: 5.0000e-04\n",
            "Epoch 12/50\n",
            "46/46 [==============================] - 113s 2s/step - loss: 2.0478 - accuracy: 0.3347 - val_loss: 2.1936 - val_accuracy: 0.2343 - lr: 5.0000e-04\n",
            "Epoch 13/50\n",
            "46/46 [==============================] - 110s 2s/step - loss: 1.9823 - accuracy: 0.3612 - val_loss: 2.1033 - val_accuracy: 0.2629 - lr: 5.0000e-04\n",
            "Epoch 14/50\n",
            "46/46 [==============================] - 107s 2s/step - loss: 1.9193 - accuracy: 0.3823 - val_loss: 2.0316 - val_accuracy: 0.2829 - lr: 5.0000e-04\n",
            "Epoch 15/50\n",
            "46/46 [==============================] - 111s 2s/step - loss: 1.9002 - accuracy: 0.3810 - val_loss: 1.9353 - val_accuracy: 0.3314 - lr: 5.0000e-04\n",
            "Epoch 16/50\n",
            "46/46 [==============================] - 112s 2s/step - loss: 1.9365 - accuracy: 0.3673 - val_loss: 2.1091 - val_accuracy: 0.2657 - lr: 5.0000e-04\n",
            "Epoch 17/50\n",
            "46/46 [==============================] - 109s 2s/step - loss: 1.9056 - accuracy: 0.3714 - val_loss: 1.9104 - val_accuracy: 0.3629 - lr: 5.0000e-04\n",
            "Epoch 18/50\n",
            "46/46 [==============================] - 107s 2s/step - loss: 1.9741 - accuracy: 0.3565 - val_loss: 2.0067 - val_accuracy: 0.3229 - lr: 5.0000e-04\n",
            "Epoch 19/50\n",
            "46/46 [==============================] - 107s 2s/step - loss: 1.8967 - accuracy: 0.3741 - val_loss: 1.8461 - val_accuracy: 0.3800 - lr: 5.0000e-04\n",
            "Epoch 20/50\n",
            "46/46 [==============================] - 108s 2s/step - loss: 1.8196 - accuracy: 0.4027 - val_loss: 1.8225 - val_accuracy: 0.3943 - lr: 2.5000e-04\n",
            "Epoch 21/50\n",
            "46/46 [==============================] - 107s 2s/step - loss: 1.7797 - accuracy: 0.4361 - val_loss: 1.8240 - val_accuracy: 0.3743 - lr: 2.5000e-04\n",
            "Epoch 22/50\n",
            "46/46 [==============================] - 112s 2s/step - loss: 1.7537 - accuracy: 0.4354 - val_loss: 1.8294 - val_accuracy: 0.3771 - lr: 2.5000e-04\n",
            "Epoch 23/50\n",
            "46/46 [==============================] - 108s 2s/step - loss: 1.7333 - accuracy: 0.4333 - val_loss: 1.8175 - val_accuracy: 0.3514 - lr: 2.5000e-04\n",
            "Epoch 24/50\n",
            "46/46 [==============================] - 111s 2s/step - loss: 1.7518 - accuracy: 0.4367 - val_loss: 1.8447 - val_accuracy: 0.3800 - lr: 2.5000e-04\n",
            "Epoch 25/50\n",
            "46/46 [==============================] - 105s 2s/step - loss: 1.7172 - accuracy: 0.4639 - val_loss: 1.8027 - val_accuracy: 0.3886 - lr: 2.5000e-04\n",
            "Epoch 26/50\n",
            "46/46 [==============================] - 108s 2s/step - loss: 1.7132 - accuracy: 0.4490 - val_loss: 1.9013 - val_accuracy: 0.3286 - lr: 2.5000e-04\n",
            "Epoch 27/50\n",
            "46/46 [==============================] - 112s 2s/step - loss: 1.6495 - accuracy: 0.4667 - val_loss: 1.6877 - val_accuracy: 0.4200 - lr: 2.5000e-04\n",
            "Epoch 28/50\n",
            "46/46 [==============================] - 112s 2s/step - loss: 1.6632 - accuracy: 0.4571 - val_loss: 1.7608 - val_accuracy: 0.3914 - lr: 2.5000e-04\n",
            "Epoch 29/50\n",
            "46/46 [==============================] - 111s 2s/step - loss: 1.6576 - accuracy: 0.4714 - val_loss: 1.7983 - val_accuracy: 0.4029 - lr: 2.5000e-04\n",
            "Epoch 30/50\n",
            "46/46 [==============================] - 107s 2s/step - loss: 1.6377 - accuracy: 0.4816 - val_loss: 1.7242 - val_accuracy: 0.3971 - lr: 1.2500e-04\n",
            "Epoch 31/50\n",
            "46/46 [==============================] - 108s 2s/step - loss: 1.6059 - accuracy: 0.4925 - val_loss: 1.6686 - val_accuracy: 0.4286 - lr: 1.2500e-04\n",
            "Epoch 32/50\n",
            "46/46 [==============================] - 111s 2s/step - loss: 1.5868 - accuracy: 0.4912 - val_loss: 1.6670 - val_accuracy: 0.4371 - lr: 1.2500e-04\n",
            "Epoch 33/50\n",
            "46/46 [==============================] - 112s 2s/step - loss: 1.5514 - accuracy: 0.5048 - val_loss: 1.6635 - val_accuracy: 0.4429 - lr: 1.2500e-04\n",
            "Epoch 34/50\n",
            "46/46 [==============================] - 109s 2s/step - loss: 1.5564 - accuracy: 0.4959 - val_loss: 1.8375 - val_accuracy: 0.4086 - lr: 1.2500e-04\n",
            "Epoch 35/50\n",
            "46/46 [==============================] - 108s 2s/step - loss: 1.5421 - accuracy: 0.5259 - val_loss: 1.7283 - val_accuracy: 0.4229 - lr: 1.2500e-04\n",
            "Epoch 36/50\n",
            "46/46 [==============================] - 111s 2s/step - loss: 1.5063 - accuracy: 0.5252 - val_loss: 1.6841 - val_accuracy: 0.4286 - lr: 1.2500e-04\n",
            "Epoch 37/50\n",
            "46/46 [==============================] - 105s 2s/step - loss: 1.4963 - accuracy: 0.5286 - val_loss: 1.6734 - val_accuracy: 0.4314 - lr: 1.2500e-04\n",
            "Epoch 38/50\n",
            "46/46 [==============================] - 107s 2s/step - loss: 1.5076 - accuracy: 0.5361 - val_loss: 1.8408 - val_accuracy: 0.4400 - lr: 1.2500e-04\n",
            "Epoch 39/50\n",
            "46/46 [==============================] - 106s 2s/step - loss: 1.4789 - accuracy: 0.5456 - val_loss: 1.6902 - val_accuracy: 0.4429 - lr: 1.2500e-04\n",
            "Epoch 40/50\n",
            "46/46 [==============================] - 111s 2s/step - loss: 1.4946 - accuracy: 0.5408 - val_loss: 1.6589 - val_accuracy: 0.4171 - lr: 6.2500e-05\n",
            "Epoch 41/50\n",
            "46/46 [==============================] - 111s 2s/step - loss: 1.4322 - accuracy: 0.5619 - val_loss: 1.6453 - val_accuracy: 0.4400 - lr: 6.2500e-05\n",
            "Epoch 42/50\n",
            "46/46 [==============================] - 110s 2s/step - loss: 1.4760 - accuracy: 0.5449 - val_loss: 1.6336 - val_accuracy: 0.4343 - lr: 6.2500e-05\n",
            "Epoch 43/50\n",
            "46/46 [==============================] - 107s 2s/step - loss: 1.4451 - accuracy: 0.5558 - val_loss: 1.6208 - val_accuracy: 0.4314 - lr: 6.2500e-05\n",
            "Epoch 44/50\n",
            "46/46 [==============================] - 112s 2s/step - loss: 1.4276 - accuracy: 0.5551 - val_loss: 1.6210 - val_accuracy: 0.4400 - lr: 6.2500e-05\n",
            "Epoch 45/50\n",
            "46/46 [==============================] - 111s 2s/step - loss: 1.4030 - accuracy: 0.5741 - val_loss: 1.6205 - val_accuracy: 0.4257 - lr: 6.2500e-05\n",
            "Epoch 46/50\n",
            "46/46 [==============================] - 110s 2s/step - loss: 1.4231 - accuracy: 0.5497 - val_loss: 1.6103 - val_accuracy: 0.4429 - lr: 6.2500e-05\n",
            "Epoch 47/50\n",
            "46/46 [==============================] - 109s 2s/step - loss: 1.4033 - accuracy: 0.5694 - val_loss: 1.5967 - val_accuracy: 0.4543 - lr: 6.2500e-05\n",
            "Epoch 48/50\n",
            "46/46 [==============================] - 108s 2s/step - loss: 1.4029 - accuracy: 0.5687 - val_loss: 1.6321 - val_accuracy: 0.4371 - lr: 6.2500e-05\n",
            "Epoch 49/50\n",
            "46/46 [==============================] - 112s 2s/step - loss: 1.3997 - accuracy: 0.5748 - val_loss: 1.6034 - val_accuracy: 0.4571 - lr: 6.2500e-05\n",
            "Epoch 50/50\n",
            "46/46 [==============================] - 111s 2s/step - loss: 1.3699 - accuracy: 0.5741 - val_loss: 1.5964 - val_accuracy: 0.4514 - lr: 3.1250e-05\n",
            "11/11 [==============================] - 7s 642ms/step - loss: 1.5964 - accuracy: 0.4514\n",
            "Test Accuracy: 0.4514285624027252\n"
          ]
        }
      ]
    },
    {
      "cell_type": "markdown",
      "source": [
        "I plotted the loss and accuracy graphs using the code below."
      ],
      "metadata": {
        "id": "svRkzMyC9B_6"
      }
    },
    {
      "cell_type": "code",
      "source": [
        "from tensorflow.keras.applications import VGG16\n",
        "from tensorflow.keras.models import Sequential\n",
        "from tensorflow.keras.layers import Conv2D, MaxPooling2D, Flatten, Dense, Dropout, BatchNormalization\n",
        "from tensorflow.keras.optimizers import Adam\n",
        "from tensorflow.keras.preprocessing.image import ImageDataGenerator\n",
        "from tensorflow.keras.callbacks import LearningRateScheduler, EarlyStopping, ModelCheckpoint\n",
        "import math\n",
        "\n",
        "# Define the learning rate schedule\n",
        "def step_decay(epoch):\n",
        "    initial_lrate = 0.0001  # Reduced initial rate for transfer learning\n",
        "    drop = 0.5\n",
        "    epochs_drop = 10.0\n",
        "    lrate = initial_lrate * math.pow(drop, math.floor((1+epoch)/epochs_drop))\n",
        "    return lrate\n",
        "\n",
        "# Image data generators\n",
        "train_datagen = ImageDataGenerator(\n",
        "    rescale=1./255,\n",
        "    rotation_range=5,\n",
        "    width_shift_range=0.05,\n",
        "    height_shift_range=0.05,\n",
        "    brightness_range=(0.9, 1.1),\n",
        "    zoom_range=[0.9, 1.1],\n",
        "    horizontal_flip=True,\n",
        "    fill_mode='nearest'\n",
        ")\n",
        "\n",
        "validation_datagen = ImageDataGenerator(rescale=1./255)\n",
        "\n",
        "train_generator = train_datagen.flow_from_directory(\n",
        "    '/content/drive/MyDrive/CFD Training',\n",
        "    target_size=(150, 150),\n",
        "    batch_size=32,\n",
        "    class_mode='categorical'\n",
        ")\n",
        "\n",
        "validation_generator = validation_datagen.flow_from_directory(\n",
        "    '/content/drive/MyDrive/CFD Validation',\n",
        "    target_size=(150, 150),\n",
        "    batch_size=32,\n",
        "    class_mode='categorical'\n",
        ")\n",
        "\n",
        "# Load VGG16 as the base model, without the top layer (fully connected layers)\n",
        "base_model = VGG16(weights='imagenet', include_top=False, input_shape=(150, 150, 3))\n",
        "\n",
        "# Freeze the layers of the base model\n",
        "for layer in base_model.layers:\n",
        "    layer.trainable = False\n",
        "\n",
        "# Create a new model on top\n",
        "model = Sequential([\n",
        "    base_model,\n",
        "    Flatten(),\n",
        "    Dense(512, activation='relu'),\n",
        "    Dropout(0.5),\n",
        "    BatchNormalization(),\n",
        "    Dense(17, activation='softmax')  # Assuming 17 classes as in your previous model\n",
        "])\n",
        "\n",
        "# Compilation and training\n",
        "optimizer = Adam(learning_rate=0.0001)  # Adjusted lower learning rate for transfer learning\n",
        "model.compile(optimizer=optimizer, loss='categorical_crossentropy', metrics=['accuracy'])\n",
        "\n",
        "# Callbacks\n",
        "lrate_schedule = LearningRateScheduler(step_decay)\n",
        "early_stopping = EarlyStopping(monitor='val_loss', patience=5)\n",
        "checkpoint = ModelCheckpoint('best_model.h5', monitor='val_loss', save_best_only=True)\n",
        "\n",
        "# Train the model\n",
        "history = model.fit(\n",
        "    train_generator,\n",
        "    steps_per_epoch=len(train_generator),\n",
        "    epochs=30,\n",
        "    validation_data=validation_generator,\n",
        "    validation_steps=len(validation_generator),\n",
        "    callbacks=[lrate_schedule, checkpoint]\n",
        ")\n",
        "\n",
        "# Evaluate the model\n",
        "test_loss, test_accuracy = model.evaluate(validation_generator)\n",
        "print(\"Test Accuracy:\", test_accuracy)\n",
        "\n"
      ],
      "metadata": {
        "colab": {
          "base_uri": "https://localhost:8080/"
        },
        "id": "BW6nvEWOtNEt",
        "outputId": "35755e15-c58a-4ac2-9bcf-7e9dbc2b35fe"
      },
      "execution_count": 2,
      "outputs": [
        {
          "output_type": "stream",
          "name": "stdout",
          "text": [
            "Found 1470 images belonging to 17 classes.\n",
            "Found 350 images belonging to 17 classes.\n",
            "Epoch 1/30\n",
            "46/46 [==============================] - ETA: 0s - loss: 3.1010 - accuracy: 0.1048 "
          ]
        },
        {
          "output_type": "stream",
          "name": "stderr",
          "text": [
            "/usr/local/lib/python3.10/dist-packages/keras/src/engine/training.py:3103: UserWarning: You are saving your model as an HDF5 file via `model.save()`. This file format is considered legacy. We recommend using instead the native Keras format, e.g. `model.save('my_model.keras')`.\n",
            "  saving_api.save_model(\n"
          ]
        },
        {
          "output_type": "stream",
          "name": "stdout",
          "text": [
            "\b\b\b\b\b\b\b\b\b\b\b\b\b\b\b\b\b\b\b\b\b\b\b\b\b\b\b\b\b\b\b\b\b\b\b\b\b\b\b\b\b\b\b\b\b\b\b\b\b\b\b\b\b\b\b\b\b\b\b\b\b\b\b\b\b\b\b\b\b\b\b\b\b\b\b\b\b\b\b\b\b\b\r46/46 [==============================] - 928s 20s/step - loss: 3.1010 - accuracy: 0.1048 - val_loss: 2.4328 - val_accuracy: 0.2343 - lr: 1.0000e-04\n",
            "Epoch 2/30\n",
            "46/46 [==============================] - 520s 11s/step - loss: 2.4287 - accuracy: 0.2463 - val_loss: 2.1237 - val_accuracy: 0.3343 - lr: 1.0000e-04\n",
            "Epoch 3/30\n",
            "46/46 [==============================] - 557s 12s/step - loss: 2.0867 - accuracy: 0.3429 - val_loss: 1.9355 - val_accuracy: 0.3914 - lr: 1.0000e-04\n",
            "Epoch 4/30\n",
            "46/46 [==============================] - 510s 11s/step - loss: 1.8721 - accuracy: 0.4190 - val_loss: 1.8745 - val_accuracy: 0.4257 - lr: 1.0000e-04\n",
            "Epoch 5/30\n",
            "46/46 [==============================] - 507s 11s/step - loss: 1.7191 - accuracy: 0.4476 - val_loss: 1.6694 - val_accuracy: 0.5000 - lr: 1.0000e-04\n",
            "Epoch 6/30\n",
            "46/46 [==============================] - 511s 11s/step - loss: 1.6005 - accuracy: 0.4898 - val_loss: 1.6323 - val_accuracy: 0.4743 - lr: 1.0000e-04\n",
            "Epoch 7/30\n",
            "46/46 [==============================] - 510s 11s/step - loss: 1.5086 - accuracy: 0.5313 - val_loss: 1.6160 - val_accuracy: 0.4743 - lr: 1.0000e-04\n",
            "Epoch 8/30\n",
            "46/46 [==============================] - 558s 12s/step - loss: 1.4146 - accuracy: 0.5701 - val_loss: 1.5232 - val_accuracy: 0.4943 - lr: 1.0000e-04\n",
            "Epoch 9/30\n",
            "46/46 [==============================] - 511s 11s/step - loss: 1.3069 - accuracy: 0.6109 - val_loss: 1.4544 - val_accuracy: 0.5429 - lr: 1.0000e-04\n",
            "Epoch 10/30\n",
            "46/46 [==============================] - 552s 12s/step - loss: 1.2106 - accuracy: 0.6667 - val_loss: 1.3770 - val_accuracy: 0.5714 - lr: 5.0000e-05\n",
            "Epoch 11/30\n",
            "46/46 [==============================] - 558s 12s/step - loss: 1.1729 - accuracy: 0.6592 - val_loss: 1.3220 - val_accuracy: 0.5886 - lr: 5.0000e-05\n",
            "Epoch 12/30\n",
            "46/46 [==============================] - 552s 12s/step - loss: 1.0882 - accuracy: 0.6884 - val_loss: 1.3050 - val_accuracy: 0.6000 - lr: 5.0000e-05\n",
            "Epoch 13/30\n",
            "46/46 [==============================] - 515s 11s/step - loss: 1.0782 - accuracy: 0.6878 - val_loss: 1.3147 - val_accuracy: 0.5829 - lr: 5.0000e-05\n",
            "Epoch 14/30\n",
            "46/46 [==============================] - 516s 11s/step - loss: 1.0057 - accuracy: 0.7170 - val_loss: 1.2674 - val_accuracy: 0.5914 - lr: 5.0000e-05\n",
            "Epoch 15/30\n",
            "46/46 [==============================] - 507s 11s/step - loss: 0.9806 - accuracy: 0.7259 - val_loss: 1.2402 - val_accuracy: 0.6143 - lr: 5.0000e-05\n",
            "Epoch 16/30\n",
            "46/46 [==============================] - 536s 12s/step - loss: 0.9548 - accuracy: 0.7313 - val_loss: 1.2108 - val_accuracy: 0.6314 - lr: 5.0000e-05\n",
            "Epoch 17/30\n",
            "46/46 [==============================] - 527s 11s/step - loss: 0.9029 - accuracy: 0.7605 - val_loss: 1.1769 - val_accuracy: 0.6457 - lr: 5.0000e-05\n",
            "Epoch 18/30\n",
            "46/46 [==============================] - 563s 12s/step - loss: 0.8857 - accuracy: 0.7490 - val_loss: 1.1698 - val_accuracy: 0.6343 - lr: 5.0000e-05\n",
            "Epoch 19/30\n",
            "46/46 [==============================] - 557s 12s/step - loss: 0.8617 - accuracy: 0.7619 - val_loss: 1.1943 - val_accuracy: 0.6086 - lr: 5.0000e-05\n",
            "Epoch 20/30\n",
            "46/46 [==============================] - 509s 11s/step - loss: 0.8080 - accuracy: 0.8000 - val_loss: 1.1476 - val_accuracy: 0.6400 - lr: 2.5000e-05\n",
            "Epoch 21/30\n",
            "46/46 [==============================] - 554s 12s/step - loss: 0.7838 - accuracy: 0.8068 - val_loss: 1.1441 - val_accuracy: 0.6343 - lr: 2.5000e-05\n",
            "Epoch 22/30\n",
            "46/46 [==============================] - 513s 11s/step - loss: 0.7781 - accuracy: 0.8007 - val_loss: 1.1156 - val_accuracy: 0.6714 - lr: 2.5000e-05\n",
            "Epoch 23/30\n",
            "46/46 [==============================] - 511s 11s/step - loss: 0.7361 - accuracy: 0.8238 - val_loss: 1.1160 - val_accuracy: 0.6600 - lr: 2.5000e-05\n",
            "Epoch 24/30\n",
            "46/46 [==============================] - 557s 12s/step - loss: 0.7249 - accuracy: 0.8184 - val_loss: 1.1066 - val_accuracy: 0.6771 - lr: 2.5000e-05\n",
            "Epoch 25/30\n",
            "46/46 [==============================] - 508s 11s/step - loss: 0.7098 - accuracy: 0.8265 - val_loss: 1.1253 - val_accuracy: 0.6543 - lr: 2.5000e-05\n",
            "Epoch 26/30\n",
            "46/46 [==============================] - 510s 11s/step - loss: 0.6933 - accuracy: 0.8381 - val_loss: 1.1208 - val_accuracy: 0.6686 - lr: 2.5000e-05\n",
            "Epoch 27/30\n",
            "46/46 [==============================] - 508s 11s/step - loss: 0.6942 - accuracy: 0.8265 - val_loss: 1.1108 - val_accuracy: 0.6657 - lr: 2.5000e-05\n",
            "Epoch 28/30\n",
            "46/46 [==============================] - 555s 12s/step - loss: 0.6856 - accuracy: 0.8374 - val_loss: 1.1061 - val_accuracy: 0.6600 - lr: 2.5000e-05\n",
            "Epoch 29/30\n",
            "46/46 [==============================] - 508s 11s/step - loss: 0.6686 - accuracy: 0.8381 - val_loss: 1.0965 - val_accuracy: 0.6600 - lr: 2.5000e-05\n",
            "Epoch 30/30\n",
            "46/46 [==============================] - 509s 11s/step - loss: 0.6741 - accuracy: 0.8429 - val_loss: 1.0854 - val_accuracy: 0.6657 - lr: 1.2500e-05\n",
            "11/11 [==============================] - 95s 8s/step - loss: 1.0854 - accuracy: 0.6657\n",
            "Test Accuracy: 0.6657142639160156\n"
          ]
        }
      ]
    },
    {
      "cell_type": "code",
      "source": [
        "import matplotlib.pyplot as plt\n",
        "\n",
        "# Retrieve history of training and validation loss\n",
        "loss = history.history['loss']\n",
        "val_loss = history.history['val_loss']\n",
        "\n",
        "# Retrieve history of training and validation accuracy\n",
        "accuracy = history.history['accuracy']\n",
        "val_accuracy = history.history['val_accuracy']\n",
        "\n",
        "epochs = range(1, len(loss) + 1)\n",
        "\n",
        "# Plot the loss over each epoch\n",
        "plt.figure(figsize=(12, 5))\n",
        "\n",
        "# Plot training and validation loss\n",
        "plt.subplot(1, 2, 1)\n",
        "plt.plot(epochs, loss, 'r-', label='Training loss')  # Red solid line\n",
        "plt.plot(epochs, val_loss, 'b', label='Validation loss')\n",
        "plt.title('Training and Validation Loss')\n",
        "plt.xlabel('Epochs')\n",
        "plt.ylabel('Loss')\n",
        "plt.legend()\n",
        "\n",
        "# Plot training and validation accuracy\n",
        "plt.subplot(1, 2, 2)\n",
        "plt.plot(epochs, accuracy, 'r-', label='Training accuracy')  # Red solid line\n",
        "plt.plot(epochs, val_accuracy, 'b', label='Validation accuracy')\n",
        "plt.title('Training and Validation Accuracy')\n",
        "plt.xlabel('Epochs')\n",
        "plt.ylabel('Accuracy')\n",
        "plt.legend()\n",
        "\n",
        "plt.tight_layout()\n",
        "plt.show()\n",
        "\n"
      ],
      "metadata": {
        "colab": {
          "base_uri": "https://localhost:8080/",
          "height": 507
        },
        "id": "i-z3PWIhU2G_",
        "outputId": "c96b5159-6a3d-4475-db6b-436adbe5fff6"
      },
      "execution_count": null,
      "outputs": [
        {
          "output_type": "display_data",
          "data": {
            "text/plain": [
              "<Figure size 1200x500 with 2 Axes>"
            ],
            "image/png": "[encoded data removed]"
          },
          "metadata": {}
        }
      ]
    },
    {
      "cell_type": "code",
      "source": [
        "import matplotlib.pyplot as plt\n",
        "\n",
        "# Extracting information from the history object\n",
        "acc = history.history['accuracy']\n",
        "val_acc = history.history['val_accuracy']\n",
        "loss = history.history['loss']\n",
        "val_loss = history.history['val_loss']\n",
        "epochs = range(1, len(acc) + 1)\n",
        "\n",
        "# Plotting training and validation accuracy\n",
        "plt.figure(figsize=(12, 6))\n",
        "plt.subplot(1, 2, 1)\n",
        "plt.plot(epochs, acc, 'bo-', label='Training acc')\n",
        "plt.plot(epochs, val_acc, 'ro-', label='Validation acc')\n",
        "plt.title('Training and Validation Accuracy')\n",
        "plt.xlabel('Epochs')\n",
        "plt.ylabel('Accuracy')\n",
        "plt.legend()\n",
        "\n",
        "# Plotting training and validation loss\n",
        "plt.subplot(1, 2, 2)\n",
        "plt.plot(epochs, loss, 'bo-', label='Training loss')\n",
        "plt.plot(epochs, val_loss, 'ro-', label='Validation loss')\n",
        "plt.title('Training and Validation Loss')\n",
        "plt.xlabel('Epochs')\n",
        "plt.ylabel('Loss')\n",
        "plt.legend()\n",
        "\n",
        "plt.tight_layout()\n",
        "plt.show()\n"
      ],
      "metadata": {
        "colab": {
          "base_uri": "https://localhost:8080/",
          "height": 607
        },
        "id": "6G-n-FnFg6WO",
        "outputId": "b8a7f484-6112-41e3-eb3a-165f0baa3c3d"
      },
      "execution_count": 3,
      "outputs": [
        {
          "output_type": "display_data",
          "data": {
            "text/plain": [
              "<Figure size 1200x600 with 2 Axes>"
            ],
            "image/png": "[encoded data removed]"
          },
          "metadata": {}
        }
      ]
    },
    {
      "cell_type": "code",
      "source": [
        "  # Test 1 (Correct)"
      ],
      "metadata": {
        "id": "JDhURC6VNOp3"
      },
      "execution_count": null,
      "outputs": []
    },
    {
      "cell_type": "code",
      "source": [
        "from tensorflow.keras.preprocessing import image\n",
        "import numpy as np\n",
        "\n",
        "# Load and preprocess the new image\n",
        "img_path = '/content/rdj test.jpeg'  # Replace with the path to your new image\n",
        "img = image.load_img(img_path, target_size=(150, 150))\n",
        "img_array = image.img_to_array(img)\n",
        "img_array = np.expand_dims(img_array, axis=0)\n",
        "img_array /= 255.\n",
        "\n",
        "# Get the model's prediction\n",
        "prediction = model.predict(img_array)\n",
        "predicted_class = np.argmax(prediction)\n",
        "\n",
        "# Map predicted class index to class label\n",
        "class_labels = train_generator.class_indices  # Assuming train_generator is your training data generator\n",
        "predicted_label = [k for k, v in class_labels.items() if v == predicted_class][0]\n",
        "\n",
        "print(\"Predicted class:\", predicted_label)"
      ],
      "metadata": {
        "colab": {
          "base_uri": "https://localhost:8080/"
        },
        "id": "AKMbCOHEehN1",
        "outputId": "f52c7077-50e5-4392-a518-b1275cf62631"
      },
      "execution_count": null,
      "outputs": [
        {
          "output_type": "stream",
          "name": "stdout",
          "text": [
            "1/1 [==============================] - 0s 380ms/step\n",
            "Predicted class: Robert Downey Jr\n"
          ]
        }
      ]
    },
    {
      "cell_type": "code",
      "source": [
        "# Test 2 (Correct)"
      ],
      "metadata": {
        "id": "riiugLiqNWGJ"
      },
      "execution_count": null,
      "outputs": []
    },
    {
      "cell_type": "code",
      "source": [
        "from tensorflow.keras.preprocessing import image\n",
        "import numpy as np\n",
        "\n",
        "# Load and preprocess the new image\n",
        "img_path = '/content/JD test.jpeg'  # Replace with the path to your new image\n",
        "img = image.load_img(img_path, target_size=(150, 150))\n",
        "img_array = image.img_to_array(img)\n",
        "img_array = np.expand_dims(img_array, axis=0)\n",
        "img_array /= 255.\n",
        "\n",
        "# Get the model's prediction\n",
        "prediction = model.predict(img_array)\n",
        "predicted_class = np.argmax(prediction)\n",
        "\n",
        "# Map predicted class index to class label\n",
        "class_labels = train_generator.class_indices  # Assuming train_generator is your training data generator\n",
        "predicted_label = [k for k, v in class_labels.items() if v == predicted_class][0]\n",
        "\n",
        "print(\"Predicted class:\", predicted_label)"
      ],
      "metadata": {
        "colab": {
          "base_uri": "https://localhost:8080/"
        },
        "id": "4WLPoPcGNNhk",
        "outputId": "8ae81386-8f23-49c3-a24a-1850f52b54d6"
      },
      "execution_count": null,
      "outputs": [
        {
          "output_type": "stream",
          "name": "stdout",
          "text": [
            "1/1 [==============================] - 0s 44ms/step\n",
            "Predicted class: Johnny Depp\n"
          ]
        }
      ]
    },
    {
      "cell_type": "code",
      "source": [
        "# Test 3 (Correct)"
      ],
      "metadata": {
        "id": "iaTCeQQlNUtH"
      },
      "execution_count": null,
      "outputs": []
    },
    {
      "cell_type": "code",
      "source": [
        "from tensorflow.keras.preprocessing import image\n",
        "import numpy as np\n",
        "\n",
        "# Load and preprocess the new image\n",
        "img_path = '/content/NicoleKidman test.jpeg'  # Replace with the path to your new image\n",
        "img = image.load_img(img_path, target_size=(150, 150))\n",
        "img_array = image.img_to_array(img)\n",
        "img_array = np.expand_dims(img_array, axis=0)\n",
        "img_array /= 255.\n",
        "\n",
        "# Get the model's prediction\n",
        "prediction = model.predict(img_array)\n",
        "predicted_class = np.argmax(prediction)\n",
        "\n",
        "# Map predicted class index to class label\n",
        "class_labels = train_generator.class_indices  # Assuming train_generator is your training data generator\n",
        "predicted_label = [k for k, v in class_labels.items() if v == predicted_class][0]\n",
        "\n",
        "print(\"Predicted class:\", predicted_label)"
      ],
      "metadata": {
        "colab": {
          "base_uri": "https://localhost:8080/"
        },
        "id": "QZy-MWbmNZes",
        "outputId": "1c88378d-d396-49e0-ccbb-94b244aee425"
      },
      "execution_count": null,
      "outputs": [
        {
          "output_type": "stream",
          "name": "stdout",
          "text": [
            "1/1 [==============================] - 0s 41ms/step\n",
            "Predicted class: Nicole Kidman\n"
          ]
        }
      ]
    },
    {
      "cell_type": "code",
      "source": [
        "# Test 4 (Correct)"
      ],
      "metadata": {
        "id": "rRqN60YGNdzS"
      },
      "execution_count": null,
      "outputs": []
    },
    {
      "cell_type": "code",
      "source": [
        "from tensorflow.keras.preprocessing import image\n",
        "import numpy as np\n",
        "\n",
        "# Load and preprocess the new image\n",
        "img_path = '/content/ScarJo test.jpeg'  # Replace with the path to your new image\n",
        "img = image.load_img(img_path, target_size=(150, 150))\n",
        "img_array = image.img_to_array(img)\n",
        "img_array = np.expand_dims(img_array, axis=0)\n",
        "img_array /= 255.\n",
        "\n",
        "# Get the model's prediction\n",
        "prediction = model.predict(img_array)\n",
        "predicted_class = np.argmax(prediction)\n",
        "\n",
        "# Map predicted class index to class label\n",
        "class_labels = train_generator.class_indices  # Assuming train_generator is your training data generator\n",
        "predicted_label = [k for k, v in class_labels.items() if v == predicted_class][0]\n",
        "\n",
        "print(\"Predicted class:\", predicted_label)"
      ],
      "metadata": {
        "colab": {
          "base_uri": "https://localhost:8080/"
        },
        "id": "VA23b057NfaT",
        "outputId": "10897aa3-8854-494f-d071-cb9d3dbaca6e"
      },
      "execution_count": null,
      "outputs": [
        {
          "output_type": "stream",
          "name": "stdout",
          "text": [
            "1/1 [==============================] - 0s 44ms/step\n",
            "Predicted class: Scarlett Johansson\n"
          ]
        }
      ]
    },
    {
      "cell_type": "code",
      "source": [
        "# Test 5 (Correct)"
      ],
      "metadata": {
        "id": "u15tzi6DNjLI"
      },
      "execution_count": null,
      "outputs": []
    },
    {
      "cell_type": "code",
      "source": [
        "from tensorflow.keras.preprocessing import image\n",
        "import numpy as np\n",
        "\n",
        "# Load and preprocess the new image\n",
        "img_path = '/content/WillSmith tes.jpeg'  # Replace with the path to your new image\n",
        "img = image.load_img(img_path, target_size=(150, 150))\n",
        "img_array = image.img_to_array(img)\n",
        "img_array = np.expand_dims(img_array, axis=0)\n",
        "img_array /= 255.\n",
        "\n",
        "# Get the model's prediction\n",
        "prediction = model.predict(img_array)\n",
        "predicted_class = np.argmax(prediction)\n",
        "\n",
        "# Map predicted class index to class label\n",
        "class_labels = train_generator.class_indices  # Assuming train_generator is your training data generator\n",
        "predicted_label = [k for k, v in class_labels.items() if v == predicted_class][0]\n",
        "\n",
        "print(\"Predicted class:\", predicted_label)"
      ],
      "metadata": {
        "colab": {
          "base_uri": "https://localhost:8080/"
        },
        "id": "q9L_xVU0Nk80",
        "outputId": "69a6679b-25bd-4670-ca53-c4b039c85650"
      },
      "execution_count": null,
      "outputs": [
        {
          "output_type": "stream",
          "name": "stdout",
          "text": [
            "1/1 [==============================] - 0s 113ms/step\n",
            "Predicted class: Will Smith\n"
          ]
        }
      ]
    },
    {
      "cell_type": "code",
      "source": [
        "# Test 6 (Fail)"
      ],
      "metadata": {
        "id": "qLMCASEEOqoH"
      },
      "execution_count": null,
      "outputs": []
    },
    {
      "cell_type": "code",
      "source": [
        "from tensorflow.keras.preprocessing import image\n",
        "import numpy as np\n",
        "\n",
        "# Load and preprocess the new image\n",
        "img_path = '/content/TomCruise test2.jpeg'  # Replace with the path to your new image\n",
        "img = image.load_img(img_path, target_size=(150, 150))\n",
        "img_array = image.img_to_array(img)\n",
        "img_array = np.expand_dims(img_array, axis=0)\n",
        "img_array /= 255.\n",
        "\n",
        "# Get the model's prediction\n",
        "prediction = model.predict(img_array)\n",
        "predicted_class = np.argmax(prediction)\n",
        "\n",
        "# Map predicted class index to class label\n",
        "class_labels = train_generator.class_indices  # Assuming train_generator is your training data generator\n",
        "predicted_label = [k for k, v in class_labels.items() if v == predicted_class][0]\n",
        "\n",
        "print(\"Predicted class:\", predicted_label)"
      ],
      "metadata": {
        "colab": {
          "base_uri": "https://localhost:8080/"
        },
        "id": "G3tphXY_OWCy",
        "outputId": "3d5d99d1-1903-4484-c579-12bbe54d7309"
      },
      "execution_count": null,
      "outputs": [
        {
          "output_type": "stream",
          "name": "stdout",
          "text": [
            "1/1 [==============================] - 0s 43ms/step\n",
            "Predicted class: Hugh Jackman\n"
          ]
        }
      ]
    },
    {
      "cell_type": "markdown",
      "source": [
        "# Final remarks:\n",
        "Accuracy of the model is not that high, the model is working. The model could classify 5 of the 6 celebrities correctly but made one mistake (Last test, classifying a picture of Tom Cruise as Hugh Jackman). The loss and accuracy graphs also indicate that while the model is not the best, the accuracy kept increasing and loss kept decreasing per epoch for both validation and training data."
      ],
      "metadata": {
        "id": "UIT1PvSlN7Uu"
      }
    },
    {
      "cell_type": "code",
      "source": [
        "# hey"
      ],
      "metadata": {
        "id": "8AMrV_MeNqLU"
      },
      "execution_count": 1,
      "outputs": []
    },
    {
      "cell_type": "code",
      "source": [],
      "metadata": {
        "id": "17HOPNZYr6sk"
      },
      "execution_count": null,
      "outputs": []
    }
  ]
}